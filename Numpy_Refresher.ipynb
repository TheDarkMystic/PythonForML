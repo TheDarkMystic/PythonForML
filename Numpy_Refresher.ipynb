{
  "nbformat": 4,
  "nbformat_minor": 0,
  "metadata": {
    "colab": {
      "name": "Numpy_Refresher.ipynb",
      "version": "0.3.2",
      "provenance": [],
      "collapsed_sections": [],
      "include_colab_link": true
    },
    "kernelspec": {
      "name": "python3",
      "display_name": "Python 3"
    }
  },
  "cells": [
    {
      "cell_type": "markdown",
      "metadata": {
        "id": "view-in-github",
        "colab_type": "text"
      },
      "source": [
        "<a href=\"https://colab.research.google.com/github/TheDarkMystic/PythonForML/blob/master/Numpy_Refresher.ipynb\" target=\"_parent\"><img src=\"https://colab.research.google.com/assets/colab-badge.svg\" alt=\"Open In Colab\"/></a>"
      ]
    },
    {
      "metadata": {
        "id": "TTstcGtMfw7_",
        "colab_type": "text"
      },
      "cell_type": "markdown",
      "source": [
        "**Numpy Arrays Vs Lists**"
      ]
    },
    {
      "metadata": {
        "id": "VrS-G_Gj0fGC",
        "colab_type": "code",
        "colab": {
          "base_uri": "https://localhost:8080/",
          "height": 50
        },
        "outputId": "0a83eefe-2ca9-4a5a-98b6-1b06e4a7ca9c"
      },
      "cell_type": "code",
      "source": [
        "import numpy as np\n",
        "a=np.array([(1,2,3),(4,5,6)])\n",
        "a"
      ],
      "execution_count": 1,
      "outputs": [
        {
          "output_type": "execute_result",
          "data": {
            "text/plain": [
              "array([[1, 2, 3],\n",
              "       [4, 5, 6]])"
            ]
          },
          "metadata": {
            "tags": []
          },
          "execution_count": 1
        }
      ]
    },
    {
      "metadata": {
        "id": "2HpIphRg0zGA",
        "colab_type": "text"
      },
      "cell_type": "markdown",
      "source": [
        "Advantages of numpy over Regular Python Lists\n",
        "\n",
        "\n",
        "1.   Consumes less memory\n",
        "2.   Faster on operation\n",
        "3.   Convenient to work with\n",
        "\n",
        "\n",
        "\n",
        "\n"
      ]
    },
    {
      "metadata": {
        "id": "THZZGvw11Mgq",
        "colab_type": "code",
        "colab": {
          "base_uri": "https://localhost:8080/",
          "height": 67
        },
        "outputId": "8c0ef5b7-0945-4db5-f0ba-c35474ae09eb"
      },
      "cell_type": "code",
      "source": [
        "import numpy as np\n",
        "import time\n",
        "import sys\n",
        "\n",
        "#List with integers from 0 to 9\n",
        "S=range(10)\n",
        "print(*S, sep=\", \")\n",
        "\n",
        "\n",
        "#print the memory of occupied by the list S\n",
        "#(memory occupied by one element of the list) x (#elements in the list)\n",
        "print(sys.getsizeof(5)*len(S))\n",
        "\n",
        "\n",
        "#print the memory of occupied by the numpy array\n",
        "#np.arange() function is similar to the range() function\n",
        "D=np.arange(10)\n",
        "#D.size give the memory occupied by one element \n",
        "print(D.size*D.itemsize)"
      ],
      "execution_count": 2,
      "outputs": [
        {
          "output_type": "stream",
          "text": [
            "0, 1, 2, 3, 4, 5, 6, 7, 8, 9\n",
            "280\n",
            "80\n"
          ],
          "name": "stdout"
        }
      ]
    },
    {
      "metadata": {
        "id": "E3zFR_R5P7LH",
        "colab_type": "text"
      },
      "cell_type": "markdown",
      "source": [
        "**Convenience and Compute speed**"
      ]
    },
    {
      "metadata": {
        "id": "zVkjZfVBPZwh",
        "colab_type": "code",
        "colab": {
          "base_uri": "https://localhost:8080/",
          "height": 50
        },
        "outputId": "08e51376-9fac-439e-878a-5636dcd3dfde"
      },
      "cell_type": "code",
      "source": [
        "import numpy as np\n",
        "\n",
        "#Adding 2 lists\n",
        "size=1000000\n",
        "list1=range(size)\n",
        "list2=range(size)\n",
        "\n",
        "start=time.time()\n",
        "ans=[(x,y) for x,y in zip(list1,list2)]\n",
        "print((time.time()-start)*1000)\n",
        "\n",
        "\n",
        "#Adding 2 numpy arrays\n",
        "A=np.arange(size)\n",
        "B=np.arange(size)\n",
        "\n",
        "start=time.time()\n",
        "ans=A+B\n",
        "print((time.time()-start)*1000)\n"
      ],
      "execution_count": 3,
      "outputs": [
        {
          "output_type": "stream",
          "text": [
            "239.72415924072266\n",
            "65.37985801696777\n"
          ],
          "name": "stdout"
        }
      ]
    },
    {
      "metadata": {
        "id": "FvEbJjBNR99a",
        "colab_type": "text"
      },
      "cell_type": "markdown",
      "source": [
        "#Numpy Operations"
      ]
    },
    {
      "metadata": {
        "id": "L2hry91DSUEp",
        "colab_type": "code",
        "colab": {
          "base_uri": "https://localhost:8080/",
          "height": 84
        },
        "outputId": "36774ad7-836f-4670-cb64-71031acc005a"
      },
      "cell_type": "code",
      "source": [
        "import numpy as np\n",
        "\n",
        "arr=np.array([1,2,3])\n",
        "\n",
        "#Calculate Dimensions of the array \n",
        "print(arr.ndim)\n",
        "\n",
        "#Bytesize of each element of array\n",
        "print(arr.itemsize)\n",
        "\n",
        "#data type for elements\n",
        "print(arr.dtype)\n",
        "\n",
        "#size of array (#of elements in array)\n",
        "print(arr.size)\n",
        "\n",
        "\n",
        "\n"
      ],
      "execution_count": 4,
      "outputs": [
        {
          "output_type": "stream",
          "text": [
            "1\n",
            "8\n",
            "int64\n",
            "3\n"
          ],
          "name": "stdout"
        }
      ]
    },
    {
      "metadata": {
        "id": "-3eVi0HRSYd6",
        "colab_type": "code",
        "colab": {
          "base_uri": "https://localhost:8080/",
          "height": 134
        },
        "outputId": "fa8feac1-651f-4796-92fe-7d4d5ef64211"
      },
      "cell_type": "code",
      "source": [
        "import numpy as np\n",
        "\n",
        "brr=np.array([(1,2,3),\n",
        "              (4,5,6)])\n",
        "#shape of the array (#rows, #cols)\n",
        "#arr has no row hence (3,)\n",
        "print(arr.shape)\n",
        "\n",
        "\n",
        "print(brr.shape)\n",
        "\n",
        "\n",
        "#reshape (rearranging the elements with different number of rows and columns))\n",
        "print(brr)\n",
        "\n",
        "#rearranging elements in the (2,3) array to (3,2) array\n",
        "crr=brr.reshape(3,2)\n",
        "\n",
        "print(crr)\n"
      ],
      "execution_count": 5,
      "outputs": [
        {
          "output_type": "stream",
          "text": [
            "(3,)\n",
            "(2, 3)\n",
            "[[1 2 3]\n",
            " [4 5 6]]\n",
            "[[1 2]\n",
            " [3 4]\n",
            " [5 6]]\n"
          ],
          "name": "stdout"
        }
      ]
    },
    {
      "metadata": {
        "id": "oAzhnNnqeNcZ",
        "colab_type": "text"
      },
      "cell_type": "markdown",
      "source": [
        "**Slicing (extracting only required elements)**"
      ]
    },
    {
      "metadata": {
        "id": "vflUNW-EVhYG",
        "colab_type": "code",
        "colab": {
          "base_uri": "https://localhost:8080/",
          "height": 84
        },
        "outputId": "328226c5-0f18-44df-ff69-cb83553866c2"
      },
      "cell_type": "code",
      "source": [
        "import numpy as np\n",
        "\n",
        "#NOTE: each set inside () is called an element.The items inside the element are 0\n",
        "#indexed\n",
        "\n",
        "\n",
        "drr=np.array([(1,2,3),\n",
        "              (4,5,6),\n",
        "              (7,8,9)])\n",
        "#from 0th element of drr, extract item with index 2\n",
        "print(drr[0,2])\n",
        "\n",
        "#from all the elements print item with index 2\n",
        "print(drr[:,2])\n",
        "\n",
        "#from 1st & 2nd element extract item with index 2\n",
        "print(drr[1:2,2])\n",
        "\n",
        "#NOTE: when we use '1:2' for slicing, element 1 is included and \n",
        "#element 2 is excluded. To extract items from element 3 we have to use \n",
        "# '1:2'\n",
        "\n",
        "print(drr[1:3,2])\n"
      ],
      "execution_count": 6,
      "outputs": [
        {
          "output_type": "stream",
          "text": [
            "3\n",
            "[3 6 9]\n",
            "[6]\n",
            "[6 9]\n"
          ],
          "name": "stdout"
        }
      ]
    },
    {
      "metadata": {
        "id": "pdQQTYoVeXTu",
        "colab_type": "text"
      },
      "cell_type": "markdown",
      "source": [
        "**linespacing**"
      ]
    },
    {
      "metadata": {
        "id": "TzzHRayCWkan",
        "colab_type": "code",
        "colab": {
          "base_uri": "https://localhost:8080/",
          "height": 67
        },
        "outputId": "15ffbcb2-b587-462f-ee03-96f9a036d121"
      },
      "cell_type": "code",
      "source": [
        "import numpy as np\n",
        "\n",
        "#returns n numbers from the given range, both bounds of the range included\n",
        "\n",
        "#get 5 numbers from range 1,3\n",
        "err=np.linspace(1,3,5)\n",
        "print(err)\n",
        "#get 10 numbers from range 1,4\n",
        "err=np.linspace(1,4,10)\n",
        "print(err)"
      ],
      "execution_count": 7,
      "outputs": [
        {
          "output_type": "stream",
          "text": [
            "[1.  1.5 2.  2.5 3. ]\n",
            "[1.         1.33333333 1.66666667 2.         2.33333333 2.66666667\n",
            " 3.         3.33333333 3.66666667 4.        ]\n"
          ],
          "name": "stdout"
        }
      ]
    },
    {
      "metadata": {
        "id": "nJschzRseeoQ",
        "colab_type": "text"
      },
      "cell_type": "markdown",
      "source": [
        "**Min, Max, Sum of elements of arrays**"
      ]
    },
    {
      "metadata": {
        "id": "dSh8Iu_9Y3RK",
        "colab_type": "code",
        "colab": {
          "base_uri": "https://localhost:8080/",
          "height": 67
        },
        "outputId": "1ef9d97e-beb0-4c68-bd02-e6d360f9c4f1"
      },
      "cell_type": "code",
      "source": [
        "import numpy as np\n",
        "\n",
        "frr=np.array([1,2,3])\n",
        "\n",
        "print(frr.min())\n",
        "print(frr.max())\n",
        "print(frr.sum())\n",
        "\n"
      ],
      "execution_count": 8,
      "outputs": [
        {
          "output_type": "stream",
          "text": [
            "1\n",
            "3\n",
            "6\n"
          ],
          "name": "stdout"
        }
      ]
    },
    {
      "metadata": {
        "id": "f1TtoidTepe4",
        "colab_type": "text"
      },
      "cell_type": "markdown",
      "source": [
        " **Concept of axis**"
      ]
    },
    {
      "metadata": {
        "id": "FcR152qVZTjy",
        "colab_type": "code",
        "colab": {
          "base_uri": "https://localhost:8080/",
          "height": 50
        },
        "outputId": "56dbb033-fcf4-4371-cc3e-ddfa633cfa86"
      },
      "cell_type": "code",
      "source": [
        "import numpy as np\n",
        "\n",
        "\n",
        "grr=np.array([(1,2,3),\n",
        "              (4,5,6),\n",
        "              (7,8,9)])\n",
        "\n",
        "#cols => axis 0\n",
        "#rows => axis 1\n",
        "\n",
        "#print sum of earh row (rowwise)\n",
        "print(grr.sum(axis=1))\n",
        "#print sum of each column(columnwise)\n",
        "print(grr.sum(axis=0))\n",
        "\n",
        "\n",
        "\n"
      ],
      "execution_count": 9,
      "outputs": [
        {
          "output_type": "stream",
          "text": [
            "[ 6 15 24]\n",
            "[12 15 18]\n"
          ],
          "name": "stdout"
        }
      ]
    },
    {
      "metadata": {
        "id": "We4OZHpueyqC",
        "colab_type": "text"
      },
      "cell_type": "markdown",
      "source": [
        "**Square root and Standard deviation**"
      ]
    },
    {
      "metadata": {
        "id": "jazn7kFYaI_K",
        "colab_type": "code",
        "colab": {
          "base_uri": "https://localhost:8080/",
          "height": 67
        },
        "outputId": "23d6617a-dde6-423d-811a-27deb0a6a5b6"
      },
      "cell_type": "code",
      "source": [
        "import numpy as np\n",
        "\n",
        "hrr=np.array([(1,2,3),\n",
        "              (4,5,6)])\n",
        "\n",
        "print(np.sqrt(hrr))\n",
        "print(np.std(hrr))\n"
      ],
      "execution_count": 10,
      "outputs": [
        {
          "output_type": "stream",
          "text": [
            "[[1.         1.41421356 1.73205081]\n",
            " [2.         2.23606798 2.44948974]]\n",
            "1.707825127659933\n"
          ],
          "name": "stdout"
        }
      ]
    },
    {
      "metadata": {
        "id": "7XrhSIrBe3gP",
        "colab_type": "text"
      },
      "cell_type": "markdown",
      "source": [
        "**Element wise operations, concatenation(stacking)**"
      ]
    },
    {
      "metadata": {
        "id": "hTHsC8XraxuM",
        "colab_type": "code",
        "colab": {
          "base_uri": "https://localhost:8080/",
          "height": 252
        },
        "outputId": "075e875c-34f1-452e-b978-5f13ff30c042"
      },
      "cell_type": "code",
      "source": [
        "import numpy as np\n",
        "\n",
        "prr=np.array([(1,2,3),\n",
        "              (4,5,6)])\n",
        "\n",
        "qrr=np.array([(1,2,3),\n",
        "              (4,5,6)])\n",
        "\n",
        "print(prr+qrr)\n",
        "print(prr-qrr)\n",
        "print(prr*qrr)\n",
        "print(prr/qrr)\n",
        "\n",
        "#verical stacking\n",
        "print(np.vstack((prr,qrr)))\n",
        "\n",
        "#horizontal stacking\n",
        "print(np.hstack((prr,qrr)))\n"
      ],
      "execution_count": 11,
      "outputs": [
        {
          "output_type": "stream",
          "text": [
            "[[ 2  4  6]\n",
            " [ 8 10 12]]\n",
            "[[0 0 0]\n",
            " [0 0 0]]\n",
            "[[ 1  4  9]\n",
            " [16 25 36]]\n",
            "[[1. 1. 1.]\n",
            " [1. 1. 1.]]\n",
            "[[1 2 3]\n",
            " [4 5 6]\n",
            " [1 2 3]\n",
            " [4 5 6]]\n",
            "[[1 2 3 1 2 3]\n",
            " [4 5 6 4 5 6]]\n"
          ],
          "name": "stdout"
        }
      ]
    },
    {
      "metadata": {
        "id": "LvPvpWZ1fBCE",
        "colab_type": "text"
      },
      "cell_type": "markdown",
      "source": [
        "**Rave**l"
      ]
    },
    {
      "metadata": {
        "id": "uZHcgEIZbPHd",
        "colab_type": "code",
        "colab": {
          "base_uri": "https://localhost:8080/",
          "height": 34
        },
        "outputId": "aedf9c2f-10d1-44aa-8870-a12baf790420"
      },
      "cell_type": "code",
      "source": [
        "import numpy as np\n",
        "\n",
        "#converts array to a single column\n",
        "rrr=np.array([(1,2,3),\n",
        "              (4,5,6)])\n",
        "\n",
        "print(np.ravel(rrr))"
      ],
      "execution_count": 12,
      "outputs": [
        {
          "output_type": "stream",
          "text": [
            "[1 2 3 4 5 6]\n"
          ],
          "name": "stdout"
        }
      ]
    },
    {
      "metadata": {
        "id": "9GMW_iy-fIvq",
        "colab_type": "text"
      },
      "cell_type": "markdown",
      "source": [
        "**Special Functions**\n"
      ]
    },
    {
      "metadata": {
        "id": "9RVV5sE-fY1B",
        "colab_type": "text"
      },
      "cell_type": "markdown",
      "source": [
        "Trigonometric Functions"
      ]
    },
    {
      "metadata": {
        "id": "UYXvapFKcCw5",
        "colab_type": "code",
        "colab": {
          "base_uri": "https://localhost:8080/",
          "height": 286
        },
        "outputId": "58b85921-841c-4d99-905e-15e268caec85"
      },
      "cell_type": "code",
      "source": [
        "import numpy as np\n",
        "import matplotlib.pyplot as plt\n",
        "\n",
        "x=np.arange(0,3*np.pi, 0.1)\n",
        "y=np.sin(x)\n",
        "#y=np.cos(x)\n",
        "#y=np.tan(h)\n",
        "plt.plot(x,y)\n"
      ],
      "execution_count": 13,
      "outputs": [
        {
          "output_type": "execute_result",
          "data": {
            "text/plain": [
              "[<matplotlib.lines.Line2D at 0x7fd66c1e6fd0>]"
            ]
          },
          "metadata": {
            "tags": []
          },
          "execution_count": 13
        },
        {
          "output_type": "display_data",
          "data": {
            "image/png": "[encoded data removed]",
            "text/plain": [
              "<Figure size 432x288 with 1 Axes>"
            ]
          },
          "metadata": {
            "tags": []
          }
        }
      ]
    },
    {
      "metadata": {
        "id": "8_2hglHYfd7O",
        "colab_type": "text"
      },
      "cell_type": "markdown",
      "source": [
        "Log and Exponential Functions"
      ]
    },
    {
      "metadata": {
        "id": "j3u07swzcoO5",
        "colab_type": "code",
        "colab": {
          "base_uri": "https://localhost:8080/",
          "height": 67
        },
        "outputId": "6d415f67-3b47-46ae-d6ef-26522f4d1cf6"
      },
      "cell_type": "code",
      "source": [
        "import numpy as np\n",
        "import matplotlib.pyplot as plt\n",
        "ar=np.array([1,2,3])\n",
        "print(np.exp(ar))\n",
        "\n",
        "#natural log\n",
        "print(np.log(ar))\n",
        "#log base 10\n",
        "print(np.log10(ar))"
      ],
      "execution_count": 14,
      "outputs": [
        {
          "output_type": "stream",
          "text": [
            "[ 2.71828183  7.3890561  20.08553692]\n",
            "[0.         0.69314718 1.09861229]\n",
            "[0.         0.30103    0.47712125]\n"
          ],
          "name": "stdout"
        }
      ]
    }
  ]
}